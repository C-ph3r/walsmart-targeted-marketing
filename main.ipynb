{
 "cells": [
  {
   "cell_type": "markdown",
   "id": "15566a73",
   "metadata": {},
   "source": [
    "## 1. Imports"
   ]
  },
  {
   "cell_type": "code",
   "execution_count": null,
   "id": "00105f5a",
   "metadata": {},
   "outputs": [],
   "source": []
  },
  {
   "cell_type": "markdown",
   "id": "82f5f9ad",
   "metadata": {},
   "source": [
    "## 2. Data Exploration"
   ]
  },
  {
   "cell_type": "markdown",
   "id": "a8c3a01b",
   "metadata": {},
   "source": [
    "## 3. Data Preprocessing"
   ]
  },
  {
   "cell_type": "markdown",
   "id": "8fdc00ac",
   "metadata": {},
   "source": [
    "## 4. Clustering"
   ]
  },
  {
   "cell_type": "markdown",
   "id": "12f0a841",
   "metadata": {},
   "source": [
    "### 4.1. Value Segmentation"
   ]
  },
  {
   "cell_type": "markdown",
   "id": "771c0997",
   "metadata": {},
   "source": [
    "### 4.2. Buying Behaviour Segmentation"
   ]
  },
  {
   "cell_type": "markdown",
   "id": "35f2b50e",
   "metadata": {},
   "source": [
    "## 5. Cluster Analysis"
   ]
  }
 ],
 "metadata": {
  "language_info": {
   "name": "python"
  }
 },
 "nbformat": 4,
 "nbformat_minor": 5
}
